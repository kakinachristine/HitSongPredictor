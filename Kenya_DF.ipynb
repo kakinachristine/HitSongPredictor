{
 "cells": [
  {
   "cell_type": "code",
   "execution_count": 1,
   "outputs": [
    {
     "data": {
      "text/plain": "          artist                                         album  \\\n0         Wizkid                                           Ayo   \n1         Wizkid                                 Made In Lagos   \n2         Wizkid                                          Joro   \n3         Wizkid                    Sounds From The Other Side   \n4    Larry Gaaga                                           Low   \n5         Davido                                         Risky   \n6         Pheelz                                   Electricity   \n7         Davido                                Best Of Davido   \n8         Davido     Stand Strong (feat. Sunday Service Choir)   \n9   Small Doctor                              Mandeman (Remix)   \n10   Fireboy DML                                       Bandana   \n11         Asake                                    Terminator   \n12         Asake                      Peace Be Unto You (PBUY)   \n13         Asake              Sungba (Remix) [feat. Burna Boy]   \n14     Iphxne Dj  Cruise Control: E-PianoSax (DJ Mix) (Edited)   \n15   Fireboy DML                                  Peru (Remix)   \n16   Fireboy DML                                       Playboy   \n17   Fireboy DML                                       Playboy   \n18   Fireboy DML                  Laughter, Tears & Goosebumps   \n19   Fireboy DML                  Laughter, Tears & Goosebumps   \n20     Burna Boy                                  Love, Damini   \n21     Burna Boy                                  Love, Damini   \n22     Burna Boy                                  Love, Damini   \n23     Burna Boy                                 African Giant   \n24       Stormzy                             Heavy Is The Head   \n25    Ayra Starr                                          Rush   \n26        Mavins                        Overloading (OVERDOSE)   \n27    Ayra Starr                                19 & Dangerous   \n28    Ayra Starr                              Bloody Samaritan   \n29        Oxlade                      KU LO SA - A COLORS SHOW   \n30        Crayon                               Ijo (Laba Laba)   \n31        Crayon                                     Cray Cray   \n32            AV                                 Big Thug Boys   \n33         2Baba                                      Warriors   \n34         2Baba                                      Warriors   \n35         2Baba                                      Warriors   \n36         2Baba                                      Warriors   \n37    Wande Coal                                        Iskaba   \n38    Wande Coal                                   Come My Way   \n39    Wande Coal                                      So Mi So   \n40   Fireboy DML                                        APOLLO   \n41       Olamide                                    Carpe Diem   \n42       Olamide                                     Motigbana   \n43       Olamide                                    Carpe Diem   \n44   Kizz Daniel                               Buga (Lo Lo Lo)   \n45   Kizz Daniel                                      Barnabas   \n46   Kizz Daniel                                  No Bad Songz   \n47   Kizz Daniel                                  King Of Love   \n48   Kizz Daniel                                      Barnabas   \n49   Tiwa Savage                                     Sugarcane   \n\n                                   track_name                track_id  \\\n0                                   Ojuelegba  1AtBzcUzKLh4BGwXhFA9K6   \n1                        Essence (feat. Tems)  5FG7Tl93LdH117jEKYl3Cm   \n2                                        Joro  3Yt1ovsh3v3VEzRuhI1TL5   \n3                   Come Closer (feat. Drake)  2zYs4BonN2ydkbrRk333SN   \n4                                         Low  4GW2SIyvB5fy8xtK1eO8PS   \n5                                       Risky  56HnJIjgi41kpjh6L3Y1Ca   \n6                                 Electricity  4hqCqVze2sJqskEQmK2Mb7   \n7                                        Gobe  5kmAydOPSFszO11Qb1k6z0   \n8   Stand Strong (feat. Sunday Service Choir)  1XUf5lpeTQbrohZWdx6Sbz   \n9                            Mandeman - Remix  5YKECGQBvWMc9eYbZPuzrU   \n10                                    Bandana  5CTQCPv51aLWpwTbqo8mEL   \n11                                 Terminator  4vI2KCvXTAPR3vfiWg1J78   \n12                   Peace Be Unto You (PBUY)  1mJFFeluclL38IwV264lm9   \n13           Sungba (feat. Burna Boy) - Remix  5FtWjKVBTMklN2yCP9UhF6   \n14                            Palazzo (Mixed)  2KRNdWyKcZrBg8QQuKVA6p   \n15                               Peru - Remix  7voSun33hCNkIrjxaj3g47   \n16                                    Playboy  2AKS1HhpLu2rgkojECUm3V   \n17                         All Of Us (Ashawo)  6459gZKddpOoPIH8PAcCwS   \n18                                  Vibration  7u0z6FcJDqkZwdpqAqUzmO   \n19                                    Scatter  0s3ZpsAaVCbWxDhLq2B2wh   \n20                                  Last Last  4LPNkxES0zCGn6S2Y1vmJN   \n21             For My Hand (feat. Ed Sheeran)  4N7AXHRMQYh9GHQd5hE6NP   \n22                                It's Plenty  3PEkfP69a7aMMb8yI7PD88   \n23                                 On The Low  25MPSH5b95vAZgyQq9lt4M   \n24      Own It (feat. Ed Sheeran & Burna Boy)  4QPEwDdOMhY7rNS05mTyMR   \n25                                       Rush  1rrqJ9QkOBYJlsZgqqwxgB   \n26                     Overloading (OVERDOSE)  4lVEVXrlQlXPdYWMGTwrFe   \n27                             Fashion Killer  3R2Etej4zzbt8LTs3rvJA1   \n28                           Bloody Samaritan  3Keas2doqXf1veo2DOOIdz   \n29                   KU LO SA - A COLORS SHOW  2WigMwGJysIh9fRnSJvpjn   \n30                            Ijo (Laba Laba)  7tZMF9Hn5uGsfC7zGXbSKM   \n31                                    So Fine  2CgKiJtYbJKzkJpo2J4Ks6   \n32                              Big Thug Boys  64f7mZuEkeNeKOuzSjrIGm   \n33                         Opo (feat. Wizkid)  1aPT4OyFWsqPp004pH2DuY   \n34                      Amaka (feat. Peruzzi)  2F5EpzUXZBX46ruU0muOx0   \n35                  Target You (feat. Syemca)  3TnN2kZvjnZDsrS19beSqt   \n36           We Must Groove (feat. Burna Boy)  7gcSJyitQE3OUWhEI7YTkB   \n37                                     Iskaba  1GuLgNKd4lrI1vugkxMCAX   \n38                                Come My Way  3PnkEOvEKu7s2qQJ5mHpNl   \n39                                   So Mi So  2KG2MggKHSVTKR8nLJX8DV   \n40                                      Spell  0EY1uhJ0ujc1RHrucvrFMx   \n41           Triumphant (feat. Bella Shmurda)  6rXfbZDPYQLWMinO552iwv   \n42                                  Motigbana  6AYPyB4mgQIGeU0Xab4ONQ   \n43                                Green Light  11qqSo6AyQR68xqVlmwYls   \n44                            Buga (Lo Lo Lo)  4eZZofkV1OQ9GDqAgHqNpA   \n45                              Pour Me Water  1DrfpnLvbwndPScRLwbUE0   \n46                                   Nesesari  1yOt3NUFWpYbnFW6ISj59h   \n47                               Boys Are Bad  6nnZHjSHt0ZNtx4bIUky9P   \n48                  Oshe (feat. The Cavemen.)  4upQnh3K5k1xbVOr97fdG7   \n49                                      Ma Lo  6U9jxxdQ6TNzjshIpwWMTf   \n\n    danceability  energy  key  loudness  mode  speechiness  instrumentalness  \\\n0          0.645   0.748    9    -5.888     0       0.0351          0.000283   \n1          0.849   0.707    0    -6.002     1       0.1130          0.000009   \n2          0.686   0.694    7    -3.693     0       0.2570          0.000904   \n3          0.825   0.453    4    -7.429     0       0.2270          0.000004   \n4          0.762   0.587    9    -2.862     0       0.0751          0.002520   \n5          0.714   0.702    8    -4.544     1       0.2640          0.000000   \n6          0.824   0.720    9    -3.868     1       0.0670          0.000000   \n7          0.631   0.951    9    -5.300     1       0.1090          0.000000   \n8          0.474   0.691    6    -5.026     1       0.0980          0.000016   \n9          0.882   0.802    7    -4.762     1       0.0419          0.000000   \n10         0.818   0.605    1    -7.121     1       0.0380          0.011600   \n11         0.829   0.657    0    -6.802     1       0.0648          0.000053   \n12         0.808   0.769    7    -7.207     0       0.0833          0.000041   \n13         0.861   0.588    7    -8.861     1       0.2430          0.000000   \n14         0.684   0.754    7    -7.937     1       0.1590          0.000000   \n15         0.966   0.509    7    -7.559     0       0.1230          0.000000   \n16         0.541   0.667    2    -7.821     1       0.1310          0.000001   \n17         0.605   0.813   11    -6.416     1       0.0903          0.003300   \n18         0.791   0.828   11    -6.908     1       0.0477          0.000012   \n19         0.726   0.802   11    -6.528     0       0.1970          0.072800   \n20         0.812   0.563    3    -4.455     0       0.0887          0.000000   \n21         0.853   0.471    9    -7.766     1       0.2340          0.000136   \n22         0.770   0.563    7   -10.615     1       0.0928          0.000079   \n23         0.816   0.782    1    -4.237     0       0.0425          0.008710   \n24         0.817   0.781    7    -4.178     0       0.1120          0.000005   \n25         0.792   0.503    1    -8.044     1       0.0626          0.000570   \n26         0.546   0.611    0    -9.459     0       0.1720          0.001490   \n27         0.777   0.674    5    -8.998     0       0.1470          0.000390   \n28         0.796   0.719    8    -7.018     0       0.1380          0.000000   \n29         0.649   0.655   10    -5.534     0       0.0652          0.000000   \n30         0.818   0.513    8   -11.382     0       0.0574          0.001050   \n31         0.722   0.807    4    -5.698     1       0.0623          0.005940   \n32         0.866   0.719   10    -4.197     0       0.1730          0.004280   \n33         0.811   0.605    2    -6.160     0       0.0631          0.060600   \n34         0.855   0.675    0    -3.981     0       0.1460          0.000004   \n35         0.783   0.796    0    -6.857     1       0.1710          0.000000   \n36         0.715   0.917    9    -2.986     0       0.1640          0.000010   \n37         0.799   0.393    0   -19.917     0       0.0710          0.009170   \n38         0.900   0.762    2    -5.035     1       0.0372          0.002460   \n39         0.754   0.523    2   -13.454     1       0.0481          0.000145   \n40         0.924   0.854    0    -3.492     1       0.0644          0.000268   \n41         0.838   0.526   10    -8.658     1       0.1570          0.000000   \n42         0.855   0.805    7    -5.484     1       0.1290          0.001540   \n43         0.897   0.721   10    -3.693     0       0.1550          0.046200   \n44         0.920   0.716    8    -7.104     1       0.1050          0.002220   \n45         0.700   0.708    8    -6.416     1       0.3780          0.005220   \n46         0.792   0.793    5    -5.731     0       0.1020          0.000001   \n47         0.830   0.512    9    -7.103     1       0.0714          0.006210   \n48         0.920   0.554    6    -5.553     1       0.1360          0.000000   \n49         0.788   0.721   11    -4.577     1       0.1520          0.000003   \n\n    liveness  valence    tempo  duration_ms  time_signature  \n0     0.2390    0.903  100.056       216243               4  \n1     0.6180    0.602  104.027       248040               4  \n2     0.1090    0.587  189.998       262737               4  \n3     0.0838    0.496   99.974       211293               4  \n4     0.0844    0.772  101.964       233012               4  \n5     0.0993    0.740  126.511       270316               5  \n6     0.1010    0.496  110.968       132913               4  \n7     0.2050    0.775  124.011       238228               4  \n8     0.1350    0.602   94.622       182792               4  \n9     0.0849    0.886  122.030       161358               4  \n10    0.0696    0.366  104.931       178225               4  \n11    0.0937    0.811  116.984       155897               4  \n12    0.1190    0.685  116.001       153103               4  \n13    0.0591    0.705  111.995       210000               4  \n14    0.7020    0.591  115.989       148500               4  \n15    0.0799    0.646  108.013       186953               4  \n16    0.0591    0.831  155.117       207475               5  \n17    0.1320    0.748  199.837       183350               4  \n18    0.1090    0.883  103.983       198462               4  \n19    0.3140    0.593  119.829       164000               4  \n20    0.0833    0.540   87.979       172342               4  \n21    0.2070    0.684  104.021       159124               4  \n22    0.3190    0.600  107.027       216992               4  \n23    0.0836    0.938   99.951       185899               4  \n24    0.1230    0.359  104.000       216707               4  \n25    0.0959    0.381   99.970       185093               4  \n26    0.1010    0.749  104.059       205000               4  \n27    0.1380    0.336   99.966       177000               4  \n28    0.0718    0.242  105.027       187000               4  \n29    0.2200    0.793   92.900       147581               4  \n30    0.0408    0.583  115.010       186000               4  \n31    0.1430    0.748  102.244       209268               4  \n32    0.1090    0.813  108.091       171999               4  \n33    0.0477    0.770  103.029       227971               4  \n34    0.0741    0.822  104.058       227683               4  \n35    0.1030    0.772  100.031       184421               4  \n36    0.0799    0.791  173.898       225827               4  \n37    0.0637    0.940  125.041       224640               4  \n38    0.0681    0.802  113.006       208719               4  \n39    0.2680    0.404  105.057       245182               4  \n40    0.0823    0.453  111.988       173372               4  \n41    0.0690    0.731   94.991       194000               4  \n42    0.0816    0.604   95.008       237513               4  \n43    0.0830    0.961  100.096       194425               4  \n44    0.1040    0.961  115.991       183103               4  \n45    0.1250    0.677  126.883       146400               5  \n46    0.1300    0.945  110.874       178001               4  \n47    0.4760    0.909  101.015       137000               4  \n48    0.3270    0.845  107.997       158400               4  \n49    0.0897    0.653  105.230       182857               4  ",
      "text/html": "<div>\n<style scoped>\n    .dataframe tbody tr th:only-of-type {\n        vertical-align: middle;\n    }\n\n    .dataframe tbody tr th {\n        vertical-align: top;\n    }\n\n    .dataframe thead th {\n        text-align: right;\n    }\n</style>\n<table border=\"1\" class=\"dataframe\">\n  <thead>\n    <tr style=\"text-align: right;\">\n      <th></th>\n      <th>artist</th>\n      <th>album</th>\n      <th>track_name</th>\n      <th>track_id</th>\n      <th>danceability</th>\n      <th>energy</th>\n      <th>key</th>\n      <th>loudness</th>\n      <th>mode</th>\n      <th>speechiness</th>\n      <th>instrumentalness</th>\n      <th>liveness</th>\n      <th>valence</th>\n      <th>tempo</th>\n      <th>duration_ms</th>\n      <th>time_signature</th>\n    </tr>\n  </thead>\n  <tbody>\n    <tr>\n      <th>0</th>\n      <td>Wizkid</td>\n      <td>Ayo</td>\n      <td>Ojuelegba</td>\n      <td>1AtBzcUzKLh4BGwXhFA9K6</td>\n      <td>0.645</td>\n      <td>0.748</td>\n      <td>9</td>\n      <td>-5.888</td>\n      <td>0</td>\n      <td>0.0351</td>\n      <td>0.000283</td>\n      <td>0.2390</td>\n      <td>0.903</td>\n      <td>100.056</td>\n      <td>216243</td>\n      <td>4</td>\n    </tr>\n    <tr>\n      <th>1</th>\n      <td>Wizkid</td>\n      <td>Made In Lagos</td>\n      <td>Essence (feat. Tems)</td>\n      <td>5FG7Tl93LdH117jEKYl3Cm</td>\n      <td>0.849</td>\n      <td>0.707</td>\n      <td>0</td>\n      <td>-6.002</td>\n      <td>1</td>\n      <td>0.1130</td>\n      <td>0.000009</td>\n      <td>0.6180</td>\n      <td>0.602</td>\n      <td>104.027</td>\n      <td>248040</td>\n      <td>4</td>\n    </tr>\n    <tr>\n      <th>2</th>\n      <td>Wizkid</td>\n      <td>Joro</td>\n      <td>Joro</td>\n      <td>3Yt1ovsh3v3VEzRuhI1TL5</td>\n      <td>0.686</td>\n      <td>0.694</td>\n      <td>7</td>\n      <td>-3.693</td>\n      <td>0</td>\n      <td>0.2570</td>\n      <td>0.000904</td>\n      <td>0.1090</td>\n      <td>0.587</td>\n      <td>189.998</td>\n      <td>262737</td>\n      <td>4</td>\n    </tr>\n    <tr>\n      <th>3</th>\n      <td>Wizkid</td>\n      <td>Sounds From The Other Side</td>\n      <td>Come Closer (feat. Drake)</td>\n      <td>2zYs4BonN2ydkbrRk333SN</td>\n      <td>0.825</td>\n      <td>0.453</td>\n      <td>4</td>\n      <td>-7.429</td>\n      <td>0</td>\n      <td>0.2270</td>\n      <td>0.000004</td>\n      <td>0.0838</td>\n      <td>0.496</td>\n      <td>99.974</td>\n      <td>211293</td>\n      <td>4</td>\n    </tr>\n    <tr>\n      <th>4</th>\n      <td>Larry Gaaga</td>\n      <td>Low</td>\n      <td>Low</td>\n      <td>4GW2SIyvB5fy8xtK1eO8PS</td>\n      <td>0.762</td>\n      <td>0.587</td>\n      <td>9</td>\n      <td>-2.862</td>\n      <td>0</td>\n      <td>0.0751</td>\n      <td>0.002520</td>\n      <td>0.0844</td>\n      <td>0.772</td>\n      <td>101.964</td>\n      <td>233012</td>\n      <td>4</td>\n    </tr>\n    <tr>\n      <th>5</th>\n      <td>Davido</td>\n      <td>Risky</td>\n      <td>Risky</td>\n      <td>56HnJIjgi41kpjh6L3Y1Ca</td>\n      <td>0.714</td>\n      <td>0.702</td>\n      <td>8</td>\n      <td>-4.544</td>\n      <td>1</td>\n      <td>0.2640</td>\n      <td>0.000000</td>\n      <td>0.0993</td>\n      <td>0.740</td>\n      <td>126.511</td>\n      <td>270316</td>\n      <td>5</td>\n    </tr>\n    <tr>\n      <th>6</th>\n      <td>Pheelz</td>\n      <td>Electricity</td>\n      <td>Electricity</td>\n      <td>4hqCqVze2sJqskEQmK2Mb7</td>\n      <td>0.824</td>\n      <td>0.720</td>\n      <td>9</td>\n      <td>-3.868</td>\n      <td>1</td>\n      <td>0.0670</td>\n      <td>0.000000</td>\n      <td>0.1010</td>\n      <td>0.496</td>\n      <td>110.968</td>\n      <td>132913</td>\n      <td>4</td>\n    </tr>\n    <tr>\n      <th>7</th>\n      <td>Davido</td>\n      <td>Best Of Davido</td>\n      <td>Gobe</td>\n      <td>5kmAydOPSFszO11Qb1k6z0</td>\n      <td>0.631</td>\n      <td>0.951</td>\n      <td>9</td>\n      <td>-5.300</td>\n      <td>1</td>\n      <td>0.1090</td>\n      <td>0.000000</td>\n      <td>0.2050</td>\n      <td>0.775</td>\n      <td>124.011</td>\n      <td>238228</td>\n      <td>4</td>\n    </tr>\n    <tr>\n      <th>8</th>\n      <td>Davido</td>\n      <td>Stand Strong (feat. Sunday Service Choir)</td>\n      <td>Stand Strong (feat. Sunday Service Choir)</td>\n      <td>1XUf5lpeTQbrohZWdx6Sbz</td>\n      <td>0.474</td>\n      <td>0.691</td>\n      <td>6</td>\n      <td>-5.026</td>\n      <td>1</td>\n      <td>0.0980</td>\n      <td>0.000016</td>\n      <td>0.1350</td>\n      <td>0.602</td>\n      <td>94.622</td>\n      <td>182792</td>\n      <td>4</td>\n    </tr>\n    <tr>\n      <th>9</th>\n      <td>Small Doctor</td>\n      <td>Mandeman (Remix)</td>\n      <td>Mandeman - Remix</td>\n      <td>5YKECGQBvWMc9eYbZPuzrU</td>\n      <td>0.882</td>\n      <td>0.802</td>\n      <td>7</td>\n      <td>-4.762</td>\n      <td>1</td>\n      <td>0.0419</td>\n      <td>0.000000</td>\n      <td>0.0849</td>\n      <td>0.886</td>\n      <td>122.030</td>\n      <td>161358</td>\n      <td>4</td>\n    </tr>\n    <tr>\n      <th>10</th>\n      <td>Fireboy DML</td>\n      <td>Bandana</td>\n      <td>Bandana</td>\n      <td>5CTQCPv51aLWpwTbqo8mEL</td>\n      <td>0.818</td>\n      <td>0.605</td>\n      <td>1</td>\n      <td>-7.121</td>\n      <td>1</td>\n      <td>0.0380</td>\n      <td>0.011600</td>\n      <td>0.0696</td>\n      <td>0.366</td>\n      <td>104.931</td>\n      <td>178225</td>\n      <td>4</td>\n    </tr>\n    <tr>\n      <th>11</th>\n      <td>Asake</td>\n      <td>Terminator</td>\n      <td>Terminator</td>\n      <td>4vI2KCvXTAPR3vfiWg1J78</td>\n      <td>0.829</td>\n      <td>0.657</td>\n      <td>0</td>\n      <td>-6.802</td>\n      <td>1</td>\n      <td>0.0648</td>\n      <td>0.000053</td>\n      <td>0.0937</td>\n      <td>0.811</td>\n      <td>116.984</td>\n      <td>155897</td>\n      <td>4</td>\n    </tr>\n    <tr>\n      <th>12</th>\n      <td>Asake</td>\n      <td>Peace Be Unto You (PBUY)</td>\n      <td>Peace Be Unto You (PBUY)</td>\n      <td>1mJFFeluclL38IwV264lm9</td>\n      <td>0.808</td>\n      <td>0.769</td>\n      <td>7</td>\n      <td>-7.207</td>\n      <td>0</td>\n      <td>0.0833</td>\n      <td>0.000041</td>\n      <td>0.1190</td>\n      <td>0.685</td>\n      <td>116.001</td>\n      <td>153103</td>\n      <td>4</td>\n    </tr>\n    <tr>\n      <th>13</th>\n      <td>Asake</td>\n      <td>Sungba (Remix) [feat. Burna Boy]</td>\n      <td>Sungba (feat. Burna Boy) - Remix</td>\n      <td>5FtWjKVBTMklN2yCP9UhF6</td>\n      <td>0.861</td>\n      <td>0.588</td>\n      <td>7</td>\n      <td>-8.861</td>\n      <td>1</td>\n      <td>0.2430</td>\n      <td>0.000000</td>\n      <td>0.0591</td>\n      <td>0.705</td>\n      <td>111.995</td>\n      <td>210000</td>\n      <td>4</td>\n    </tr>\n    <tr>\n      <th>14</th>\n      <td>Iphxne Dj</td>\n      <td>Cruise Control: E-PianoSax (DJ Mix) (Edited)</td>\n      <td>Palazzo (Mixed)</td>\n      <td>2KRNdWyKcZrBg8QQuKVA6p</td>\n      <td>0.684</td>\n      <td>0.754</td>\n      <td>7</td>\n      <td>-7.937</td>\n      <td>1</td>\n      <td>0.1590</td>\n      <td>0.000000</td>\n      <td>0.7020</td>\n      <td>0.591</td>\n      <td>115.989</td>\n      <td>148500</td>\n      <td>4</td>\n    </tr>\n    <tr>\n      <th>15</th>\n      <td>Fireboy DML</td>\n      <td>Peru (Remix)</td>\n      <td>Peru - Remix</td>\n      <td>7voSun33hCNkIrjxaj3g47</td>\n      <td>0.966</td>\n      <td>0.509</td>\n      <td>7</td>\n      <td>-7.559</td>\n      <td>0</td>\n      <td>0.1230</td>\n      <td>0.000000</td>\n      <td>0.0799</td>\n      <td>0.646</td>\n      <td>108.013</td>\n      <td>186953</td>\n      <td>4</td>\n    </tr>\n    <tr>\n      <th>16</th>\n      <td>Fireboy DML</td>\n      <td>Playboy</td>\n      <td>Playboy</td>\n      <td>2AKS1HhpLu2rgkojECUm3V</td>\n      <td>0.541</td>\n      <td>0.667</td>\n      <td>2</td>\n      <td>-7.821</td>\n      <td>1</td>\n      <td>0.1310</td>\n      <td>0.000001</td>\n      <td>0.0591</td>\n      <td>0.831</td>\n      <td>155.117</td>\n      <td>207475</td>\n      <td>5</td>\n    </tr>\n    <tr>\n      <th>17</th>\n      <td>Fireboy DML</td>\n      <td>Playboy</td>\n      <td>All Of Us (Ashawo)</td>\n      <td>6459gZKddpOoPIH8PAcCwS</td>\n      <td>0.605</td>\n      <td>0.813</td>\n      <td>11</td>\n      <td>-6.416</td>\n      <td>1</td>\n      <td>0.0903</td>\n      <td>0.003300</td>\n      <td>0.1320</td>\n      <td>0.748</td>\n      <td>199.837</td>\n      <td>183350</td>\n      <td>4</td>\n    </tr>\n    <tr>\n      <th>18</th>\n      <td>Fireboy DML</td>\n      <td>Laughter, Tears &amp; Goosebumps</td>\n      <td>Vibration</td>\n      <td>7u0z6FcJDqkZwdpqAqUzmO</td>\n      <td>0.791</td>\n      <td>0.828</td>\n      <td>11</td>\n      <td>-6.908</td>\n      <td>1</td>\n      <td>0.0477</td>\n      <td>0.000012</td>\n      <td>0.1090</td>\n      <td>0.883</td>\n      <td>103.983</td>\n      <td>198462</td>\n      <td>4</td>\n    </tr>\n    <tr>\n      <th>19</th>\n      <td>Fireboy DML</td>\n      <td>Laughter, Tears &amp; Goosebumps</td>\n      <td>Scatter</td>\n      <td>0s3ZpsAaVCbWxDhLq2B2wh</td>\n      <td>0.726</td>\n      <td>0.802</td>\n      <td>11</td>\n      <td>-6.528</td>\n      <td>0</td>\n      <td>0.1970</td>\n      <td>0.072800</td>\n      <td>0.3140</td>\n      <td>0.593</td>\n      <td>119.829</td>\n      <td>164000</td>\n      <td>4</td>\n    </tr>\n    <tr>\n      <th>20</th>\n      <td>Burna Boy</td>\n      <td>Love, Damini</td>\n      <td>Last Last</td>\n      <td>4LPNkxES0zCGn6S2Y1vmJN</td>\n      <td>0.812</td>\n      <td>0.563</td>\n      <td>3</td>\n      <td>-4.455</td>\n      <td>0</td>\n      <td>0.0887</td>\n      <td>0.000000</td>\n      <td>0.0833</td>\n      <td>0.540</td>\n      <td>87.979</td>\n      <td>172342</td>\n      <td>4</td>\n    </tr>\n    <tr>\n      <th>21</th>\n      <td>Burna Boy</td>\n      <td>Love, Damini</td>\n      <td>For My Hand (feat. Ed Sheeran)</td>\n      <td>4N7AXHRMQYh9GHQd5hE6NP</td>\n      <td>0.853</td>\n      <td>0.471</td>\n      <td>9</td>\n      <td>-7.766</td>\n      <td>1</td>\n      <td>0.2340</td>\n      <td>0.000136</td>\n      <td>0.2070</td>\n      <td>0.684</td>\n      <td>104.021</td>\n      <td>159124</td>\n      <td>4</td>\n    </tr>\n    <tr>\n      <th>22</th>\n      <td>Burna Boy</td>\n      <td>Love, Damini</td>\n      <td>It's Plenty</td>\n      <td>3PEkfP69a7aMMb8yI7PD88</td>\n      <td>0.770</td>\n      <td>0.563</td>\n      <td>7</td>\n      <td>-10.615</td>\n      <td>1</td>\n      <td>0.0928</td>\n      <td>0.000079</td>\n      <td>0.3190</td>\n      <td>0.600</td>\n      <td>107.027</td>\n      <td>216992</td>\n      <td>4</td>\n    </tr>\n    <tr>\n      <th>23</th>\n      <td>Burna Boy</td>\n      <td>African Giant</td>\n      <td>On The Low</td>\n      <td>25MPSH5b95vAZgyQq9lt4M</td>\n      <td>0.816</td>\n      <td>0.782</td>\n      <td>1</td>\n      <td>-4.237</td>\n      <td>0</td>\n      <td>0.0425</td>\n      <td>0.008710</td>\n      <td>0.0836</td>\n      <td>0.938</td>\n      <td>99.951</td>\n      <td>185899</td>\n      <td>4</td>\n    </tr>\n    <tr>\n      <th>24</th>\n      <td>Stormzy</td>\n      <td>Heavy Is The Head</td>\n      <td>Own It (feat. Ed Sheeran &amp; Burna Boy)</td>\n      <td>4QPEwDdOMhY7rNS05mTyMR</td>\n      <td>0.817</td>\n      <td>0.781</td>\n      <td>7</td>\n      <td>-4.178</td>\n      <td>0</td>\n      <td>0.1120</td>\n      <td>0.000005</td>\n      <td>0.1230</td>\n      <td>0.359</td>\n      <td>104.000</td>\n      <td>216707</td>\n      <td>4</td>\n    </tr>\n    <tr>\n      <th>25</th>\n      <td>Ayra Starr</td>\n      <td>Rush</td>\n      <td>Rush</td>\n      <td>1rrqJ9QkOBYJlsZgqqwxgB</td>\n      <td>0.792</td>\n      <td>0.503</td>\n      <td>1</td>\n      <td>-8.044</td>\n      <td>1</td>\n      <td>0.0626</td>\n      <td>0.000570</td>\n      <td>0.0959</td>\n      <td>0.381</td>\n      <td>99.970</td>\n      <td>185093</td>\n      <td>4</td>\n    </tr>\n    <tr>\n      <th>26</th>\n      <td>Mavins</td>\n      <td>Overloading (OVERDOSE)</td>\n      <td>Overloading (OVERDOSE)</td>\n      <td>4lVEVXrlQlXPdYWMGTwrFe</td>\n      <td>0.546</td>\n      <td>0.611</td>\n      <td>0</td>\n      <td>-9.459</td>\n      <td>0</td>\n      <td>0.1720</td>\n      <td>0.001490</td>\n      <td>0.1010</td>\n      <td>0.749</td>\n      <td>104.059</td>\n      <td>205000</td>\n      <td>4</td>\n    </tr>\n    <tr>\n      <th>27</th>\n      <td>Ayra Starr</td>\n      <td>19 &amp; Dangerous</td>\n      <td>Fashion Killer</td>\n      <td>3R2Etej4zzbt8LTs3rvJA1</td>\n      <td>0.777</td>\n      <td>0.674</td>\n      <td>5</td>\n      <td>-8.998</td>\n      <td>0</td>\n      <td>0.1470</td>\n      <td>0.000390</td>\n      <td>0.1380</td>\n      <td>0.336</td>\n      <td>99.966</td>\n      <td>177000</td>\n      <td>4</td>\n    </tr>\n    <tr>\n      <th>28</th>\n      <td>Ayra Starr</td>\n      <td>Bloody Samaritan</td>\n      <td>Bloody Samaritan</td>\n      <td>3Keas2doqXf1veo2DOOIdz</td>\n      <td>0.796</td>\n      <td>0.719</td>\n      <td>8</td>\n      <td>-7.018</td>\n      <td>0</td>\n      <td>0.1380</td>\n      <td>0.000000</td>\n      <td>0.0718</td>\n      <td>0.242</td>\n      <td>105.027</td>\n      <td>187000</td>\n      <td>4</td>\n    </tr>\n    <tr>\n      <th>29</th>\n      <td>Oxlade</td>\n      <td>KU LO SA - A COLORS SHOW</td>\n      <td>KU LO SA - A COLORS SHOW</td>\n      <td>2WigMwGJysIh9fRnSJvpjn</td>\n      <td>0.649</td>\n      <td>0.655</td>\n      <td>10</td>\n      <td>-5.534</td>\n      <td>0</td>\n      <td>0.0652</td>\n      <td>0.000000</td>\n      <td>0.2200</td>\n      <td>0.793</td>\n      <td>92.900</td>\n      <td>147581</td>\n      <td>4</td>\n    </tr>\n    <tr>\n      <th>30</th>\n      <td>Crayon</td>\n      <td>Ijo (Laba Laba)</td>\n      <td>Ijo (Laba Laba)</td>\n      <td>7tZMF9Hn5uGsfC7zGXbSKM</td>\n      <td>0.818</td>\n      <td>0.513</td>\n      <td>8</td>\n      <td>-11.382</td>\n      <td>0</td>\n      <td>0.0574</td>\n      <td>0.001050</td>\n      <td>0.0408</td>\n      <td>0.583</td>\n      <td>115.010</td>\n      <td>186000</td>\n      <td>4</td>\n    </tr>\n    <tr>\n      <th>31</th>\n      <td>Crayon</td>\n      <td>Cray Cray</td>\n      <td>So Fine</td>\n      <td>2CgKiJtYbJKzkJpo2J4Ks6</td>\n      <td>0.722</td>\n      <td>0.807</td>\n      <td>4</td>\n      <td>-5.698</td>\n      <td>1</td>\n      <td>0.0623</td>\n      <td>0.005940</td>\n      <td>0.1430</td>\n      <td>0.748</td>\n      <td>102.244</td>\n      <td>209268</td>\n      <td>4</td>\n    </tr>\n    <tr>\n      <th>32</th>\n      <td>AV</td>\n      <td>Big Thug Boys</td>\n      <td>Big Thug Boys</td>\n      <td>64f7mZuEkeNeKOuzSjrIGm</td>\n      <td>0.866</td>\n      <td>0.719</td>\n      <td>10</td>\n      <td>-4.197</td>\n      <td>0</td>\n      <td>0.1730</td>\n      <td>0.004280</td>\n      <td>0.1090</td>\n      <td>0.813</td>\n      <td>108.091</td>\n      <td>171999</td>\n      <td>4</td>\n    </tr>\n    <tr>\n      <th>33</th>\n      <td>2Baba</td>\n      <td>Warriors</td>\n      <td>Opo (feat. Wizkid)</td>\n      <td>1aPT4OyFWsqPp004pH2DuY</td>\n      <td>0.811</td>\n      <td>0.605</td>\n      <td>2</td>\n      <td>-6.160</td>\n      <td>0</td>\n      <td>0.0631</td>\n      <td>0.060600</td>\n      <td>0.0477</td>\n      <td>0.770</td>\n      <td>103.029</td>\n      <td>227971</td>\n      <td>4</td>\n    </tr>\n    <tr>\n      <th>34</th>\n      <td>2Baba</td>\n      <td>Warriors</td>\n      <td>Amaka (feat. Peruzzi)</td>\n      <td>2F5EpzUXZBX46ruU0muOx0</td>\n      <td>0.855</td>\n      <td>0.675</td>\n      <td>0</td>\n      <td>-3.981</td>\n      <td>0</td>\n      <td>0.1460</td>\n      <td>0.000004</td>\n      <td>0.0741</td>\n      <td>0.822</td>\n      <td>104.058</td>\n      <td>227683</td>\n      <td>4</td>\n    </tr>\n    <tr>\n      <th>35</th>\n      <td>2Baba</td>\n      <td>Warriors</td>\n      <td>Target You (feat. Syemca)</td>\n      <td>3TnN2kZvjnZDsrS19beSqt</td>\n      <td>0.783</td>\n      <td>0.796</td>\n      <td>0</td>\n      <td>-6.857</td>\n      <td>1</td>\n      <td>0.1710</td>\n      <td>0.000000</td>\n      <td>0.1030</td>\n      <td>0.772</td>\n      <td>100.031</td>\n      <td>184421</td>\n      <td>4</td>\n    </tr>\n    <tr>\n      <th>36</th>\n      <td>2Baba</td>\n      <td>Warriors</td>\n      <td>We Must Groove (feat. Burna Boy)</td>\n      <td>7gcSJyitQE3OUWhEI7YTkB</td>\n      <td>0.715</td>\n      <td>0.917</td>\n      <td>9</td>\n      <td>-2.986</td>\n      <td>0</td>\n      <td>0.1640</td>\n      <td>0.000010</td>\n      <td>0.0799</td>\n      <td>0.791</td>\n      <td>173.898</td>\n      <td>225827</td>\n      <td>4</td>\n    </tr>\n    <tr>\n      <th>37</th>\n      <td>Wande Coal</td>\n      <td>Iskaba</td>\n      <td>Iskaba</td>\n      <td>1GuLgNKd4lrI1vugkxMCAX</td>\n      <td>0.799</td>\n      <td>0.393</td>\n      <td>0</td>\n      <td>-19.917</td>\n      <td>0</td>\n      <td>0.0710</td>\n      <td>0.009170</td>\n      <td>0.0637</td>\n      <td>0.940</td>\n      <td>125.041</td>\n      <td>224640</td>\n      <td>4</td>\n    </tr>\n    <tr>\n      <th>38</th>\n      <td>Wande Coal</td>\n      <td>Come My Way</td>\n      <td>Come My Way</td>\n      <td>3PnkEOvEKu7s2qQJ5mHpNl</td>\n      <td>0.900</td>\n      <td>0.762</td>\n      <td>2</td>\n      <td>-5.035</td>\n      <td>1</td>\n      <td>0.0372</td>\n      <td>0.002460</td>\n      <td>0.0681</td>\n      <td>0.802</td>\n      <td>113.006</td>\n      <td>208719</td>\n      <td>4</td>\n    </tr>\n    <tr>\n      <th>39</th>\n      <td>Wande Coal</td>\n      <td>So Mi So</td>\n      <td>So Mi So</td>\n      <td>2KG2MggKHSVTKR8nLJX8DV</td>\n      <td>0.754</td>\n      <td>0.523</td>\n      <td>2</td>\n      <td>-13.454</td>\n      <td>1</td>\n      <td>0.0481</td>\n      <td>0.000145</td>\n      <td>0.2680</td>\n      <td>0.404</td>\n      <td>105.057</td>\n      <td>245182</td>\n      <td>4</td>\n    </tr>\n    <tr>\n      <th>40</th>\n      <td>Fireboy DML</td>\n      <td>APOLLO</td>\n      <td>Spell</td>\n      <td>0EY1uhJ0ujc1RHrucvrFMx</td>\n      <td>0.924</td>\n      <td>0.854</td>\n      <td>0</td>\n      <td>-3.492</td>\n      <td>1</td>\n      <td>0.0644</td>\n      <td>0.000268</td>\n      <td>0.0823</td>\n      <td>0.453</td>\n      <td>111.988</td>\n      <td>173372</td>\n      <td>4</td>\n    </tr>\n    <tr>\n      <th>41</th>\n      <td>Olamide</td>\n      <td>Carpe Diem</td>\n      <td>Triumphant (feat. Bella Shmurda)</td>\n      <td>6rXfbZDPYQLWMinO552iwv</td>\n      <td>0.838</td>\n      <td>0.526</td>\n      <td>10</td>\n      <td>-8.658</td>\n      <td>1</td>\n      <td>0.1570</td>\n      <td>0.000000</td>\n      <td>0.0690</td>\n      <td>0.731</td>\n      <td>94.991</td>\n      <td>194000</td>\n      <td>4</td>\n    </tr>\n    <tr>\n      <th>42</th>\n      <td>Olamide</td>\n      <td>Motigbana</td>\n      <td>Motigbana</td>\n      <td>6AYPyB4mgQIGeU0Xab4ONQ</td>\n      <td>0.855</td>\n      <td>0.805</td>\n      <td>7</td>\n      <td>-5.484</td>\n      <td>1</td>\n      <td>0.1290</td>\n      <td>0.001540</td>\n      <td>0.0816</td>\n      <td>0.604</td>\n      <td>95.008</td>\n      <td>237513</td>\n      <td>4</td>\n    </tr>\n    <tr>\n      <th>43</th>\n      <td>Olamide</td>\n      <td>Carpe Diem</td>\n      <td>Green Light</td>\n      <td>11qqSo6AyQR68xqVlmwYls</td>\n      <td>0.897</td>\n      <td>0.721</td>\n      <td>10</td>\n      <td>-3.693</td>\n      <td>0</td>\n      <td>0.1550</td>\n      <td>0.046200</td>\n      <td>0.0830</td>\n      <td>0.961</td>\n      <td>100.096</td>\n      <td>194425</td>\n      <td>4</td>\n    </tr>\n    <tr>\n      <th>44</th>\n      <td>Kizz Daniel</td>\n      <td>Buga (Lo Lo Lo)</td>\n      <td>Buga (Lo Lo Lo)</td>\n      <td>4eZZofkV1OQ9GDqAgHqNpA</td>\n      <td>0.920</td>\n      <td>0.716</td>\n      <td>8</td>\n      <td>-7.104</td>\n      <td>1</td>\n      <td>0.1050</td>\n      <td>0.002220</td>\n      <td>0.1040</td>\n      <td>0.961</td>\n      <td>115.991</td>\n      <td>183103</td>\n      <td>4</td>\n    </tr>\n    <tr>\n      <th>45</th>\n      <td>Kizz Daniel</td>\n      <td>Barnabas</td>\n      <td>Pour Me Water</td>\n      <td>1DrfpnLvbwndPScRLwbUE0</td>\n      <td>0.700</td>\n      <td>0.708</td>\n      <td>8</td>\n      <td>-6.416</td>\n      <td>1</td>\n      <td>0.3780</td>\n      <td>0.005220</td>\n      <td>0.1250</td>\n      <td>0.677</td>\n      <td>126.883</td>\n      <td>146400</td>\n      <td>5</td>\n    </tr>\n    <tr>\n      <th>46</th>\n      <td>Kizz Daniel</td>\n      <td>No Bad Songz</td>\n      <td>Nesesari</td>\n      <td>1yOt3NUFWpYbnFW6ISj59h</td>\n      <td>0.792</td>\n      <td>0.793</td>\n      <td>5</td>\n      <td>-5.731</td>\n      <td>0</td>\n      <td>0.1020</td>\n      <td>0.000001</td>\n      <td>0.1300</td>\n      <td>0.945</td>\n      <td>110.874</td>\n      <td>178001</td>\n      <td>4</td>\n    </tr>\n    <tr>\n      <th>47</th>\n      <td>Kizz Daniel</td>\n      <td>King Of Love</td>\n      <td>Boys Are Bad</td>\n      <td>6nnZHjSHt0ZNtx4bIUky9P</td>\n      <td>0.830</td>\n      <td>0.512</td>\n      <td>9</td>\n      <td>-7.103</td>\n      <td>1</td>\n      <td>0.0714</td>\n      <td>0.006210</td>\n      <td>0.4760</td>\n      <td>0.909</td>\n      <td>101.015</td>\n      <td>137000</td>\n      <td>4</td>\n    </tr>\n    <tr>\n      <th>48</th>\n      <td>Kizz Daniel</td>\n      <td>Barnabas</td>\n      <td>Oshe (feat. The Cavemen.)</td>\n      <td>4upQnh3K5k1xbVOr97fdG7</td>\n      <td>0.920</td>\n      <td>0.554</td>\n      <td>6</td>\n      <td>-5.553</td>\n      <td>1</td>\n      <td>0.1360</td>\n      <td>0.000000</td>\n      <td>0.3270</td>\n      <td>0.845</td>\n      <td>107.997</td>\n      <td>158400</td>\n      <td>4</td>\n    </tr>\n    <tr>\n      <th>49</th>\n      <td>Tiwa Savage</td>\n      <td>Sugarcane</td>\n      <td>Ma Lo</td>\n      <td>6U9jxxdQ6TNzjshIpwWMTf</td>\n      <td>0.788</td>\n      <td>0.721</td>\n      <td>11</td>\n      <td>-4.577</td>\n      <td>1</td>\n      <td>0.1520</td>\n      <td>0.000003</td>\n      <td>0.0897</td>\n      <td>0.653</td>\n      <td>105.230</td>\n      <td>182857</td>\n      <td>4</td>\n    </tr>\n  </tbody>\n</table>\n</div>"
     },
     "execution_count": 1,
     "metadata": {},
     "output_type": "execute_result"
    }
   ],
   "source": [
    "import pandas as pd\n",
    "df = pd.read_csv( r'C:\\Users\\user\\PycharmProjects\\hitMusicPredictor\\Naija.csv' )\n",
    "df"
   ],
   "metadata": {
    "collapsed": false,
    "pycharm": {
     "name": "#%%\n"
    }
   }
  },
  {
   "cell_type": "code",
   "execution_count": 2,
   "outputs": [
    {
     "data": {
      "text/plain": "artist               object\nalbum                object\ntrack_name           object\ntrack_id             object\ndanceability        float64\nenergy              float64\nkey                   int64\nloudness            float64\nmode                  int64\nspeechiness         float64\ninstrumentalness    float64\nliveness            float64\nvalence             float64\ntempo               float64\nduration_ms           int64\ntime_signature        int64\ndtype: object"
     },
     "execution_count": 2,
     "metadata": {},
     "output_type": "execute_result"
    }
   ],
   "source": [
    "df.dtypes"
   ],
   "metadata": {
    "collapsed": false,
    "pycharm": {
     "name": "#%%\n"
    }
   }
  },
  {
   "cell_type": "code",
   "execution_count": 2,
   "outputs": [
    {
     "name": "stdout",
     "output_type": "stream",
     "text": [
      "       artist                        album                   track_name  \\\n",
      "0  Nyashinski                        Hello                        Hello   \n",
      "1  Nyashinski    Properly (feat. Femi One)    Properly (feat. Femi One)   \n",
      "2  Nyashinski  Hapo Tu (feat. Chris Kaiga)  Hapo Tu (feat. Chris Kaiga)   \n",
      "3  Nyashinski                  Mungu Pekee                  Mungu Pekee   \n",
      "4  Nyashinski                    Bebi Bebi                    Bebi Bebi   \n",
      "\n",
      "                 track_id  danceability  energy  key  loudness  mode  \\\n",
      "0  5oHGYyIokNKyDvyi4pNu44         0.633   0.695    8    -6.048     1   \n",
      "1  6zSFJHyjfajlXTSV7p4j0G         0.909   0.560    9    -7.345     1   \n",
      "2  6JR3F5nXtkkHwiCHIeYqSC         0.726   0.706    1    -3.448     1   \n",
      "3  1QgM3SejXDyHkqt0guA4TX         0.718   0.759    0    -4.548     1   \n",
      "4  4U2PpIPmXV04EyrzNe0Ary         0.708   0.442    1    -8.699     1   \n",
      "\n",
      "   speechiness  instrumentalness  liveness  valence    tempo  duration_ms  \\\n",
      "0        0.166          0.000000    0.0783    0.605  126.521       230000   \n",
      "1        0.366          0.000000    0.0295    0.704  110.137       196364   \n",
      "2        0.343          0.000587    0.0291    0.555  119.896       187556   \n",
      "3        0.173          0.000000    0.0624    0.769  100.008       230452   \n",
      "4        0.166          0.000000    0.0456    0.788  146.010       240000   \n",
      "\n",
      "   time_signature  \n",
      "0               5  \n",
      "1               4  \n",
      "2               3  \n",
      "3               4  \n",
      "4               4  \n",
      "        artist                       album                 track_name  \\\n",
      "0       Wizkid                         Ayo                  Ojuelegba   \n",
      "1       Wizkid               Made In Lagos       Essence (feat. Tems)   \n",
      "2       Wizkid                        Joro                       Joro   \n",
      "3       Wizkid  Sounds From The Other Side  Come Closer (feat. Drake)   \n",
      "4  Larry Gaaga                         Low                        Low   \n",
      "\n",
      "                 track_id  danceability  energy  key  loudness  mode  \\\n",
      "0  1AtBzcUzKLh4BGwXhFA9K6         0.645   0.748    9    -5.888     0   \n",
      "1  5FG7Tl93LdH117jEKYl3Cm         0.849   0.707    0    -6.002     1   \n",
      "2  3Yt1ovsh3v3VEzRuhI1TL5         0.686   0.694    7    -3.693     0   \n",
      "3  2zYs4BonN2ydkbrRk333SN         0.825   0.453    4    -7.429     0   \n",
      "4  4GW2SIyvB5fy8xtK1eO8PS         0.762   0.587    9    -2.862     0   \n",
      "\n",
      "   speechiness  instrumentalness  liveness  valence    tempo  duration_ms  \\\n",
      "0       0.0351          0.000283    0.2390    0.903  100.056       216243   \n",
      "1       0.1130          0.000009    0.6180    0.602  104.027       248040   \n",
      "2       0.2570          0.000904    0.1090    0.587  189.998       262737   \n",
      "3       0.2270          0.000004    0.0838    0.496   99.974       211293   \n",
      "4       0.0751          0.002520    0.0844    0.772  101.964       233012   \n",
      "\n",
      "   time_signature  \n",
      "0               4  \n",
      "1               4  \n",
      "2               4  \n",
      "3               4  \n",
      "4               4  \n"
     ]
    },
    {
     "data": {
      "text/plain": "50"
     },
     "execution_count": 2,
     "metadata": {},
     "output_type": "execute_result"
    }
   ],
   "source": [
    "# from Database import db, connection\n",
    "import pandas\n",
    "from sqlalchemy import create_engine\n",
    "\n",
    "\n",
    "# Create the engine to connect to the inbuilt\n",
    "# sqllite database\\\n",
    "engine = create_engine(\"sqlite+pysqlite:///:memory:\")\n",
    "\n",
    "# Read data from CSV which will be\n",
    "# loaded as a dataframe object\n",
    "data = pandas.read_csv(r'C:\\Users\\user\\PycharmProjects\\hitMusicPredictor\\Kenya.csv')\n",
    "data1 = pandas.read_csv(r'C:\\Users\\user\\PycharmProjects\\hitMusicPredictor\\Naija.csv')\n",
    "\n",
    "# print the sample of a dataframe\n",
    "print(data.head())\n",
    "print(data1.head())\n",
    "\n",
    "\n",
    "# Write data into the table in sqllite database\n",
    "data.to_sql('Track_data', engine)\n",
    "data1.to_sql('Track_data1', engine)\n",
    "\n",
    "\n"
   ],
   "metadata": {
    "collapsed": false,
    "pycharm": {
     "name": "#%%\n"
    }
   }
  },
  {
   "cell_type": "code",
   "execution_count": 5,
   "outputs": [
    {
     "name": "stdout",
     "output_type": "stream",
     "text": [
      "5oHGYyIokNKyDvyi4pNu44\n",
      "6zSFJHyjfajlXTSV7p4j0G\n",
      "6JR3F5nXtkkHwiCHIeYqSC\n",
      "1QgM3SejXDyHkqt0guA4TX\n",
      "4U2PpIPmXV04EyrzNe0Ary\n",
      "2EISZ7FY6AkSP8ObzenBcB\n",
      "4CpkKi23V5U6fd419XNQnG\n",
      "2wjStOr7RhZ6s6oNn8Nbzb\n",
      "6dDDPV8S5meV46SamOnDNl\n",
      "14hmRkJelWnZu3mWzBfWfg\n",
      "3HlLqEWLhoKV9GVVOFerQb\n",
      "7d5IXFX7Ubuvl0JuIAdUTO\n",
      "554GIS5vF1pZXRKymmYrSb\n",
      "4B9Rhu9Xdq3Vo1hfLJQh9p\n",
      "3rJzQDT5O5pgyLWzpzU7oN\n",
      "1elg3I7brfkbPobESQoHWE\n",
      "0PhRfGAuBYlwSCPHVuKcfv\n",
      "2HV7LKVfSS4U9oRLXOoEtv\n",
      "5FDJRlwVrsIzvtPYXkwoR6\n",
      "1Dr1B7vv2csEtu22QxiRvi\n",
      "11ThYDaSKQTS1zaTfS34OP\n",
      "7puSVBxqYL4iHE3s6Xu7dx\n",
      "36FZxDR780aUeqvXW3ZUov\n",
      "5OflrN0O5MUtruSRH3KILR\n",
      "77e2nFKcEgOOyr2sbYjAGt\n",
      "3mMCfqlXkDzH8jE9mjIu7d\n",
      "36ORyl93KYhB2loEeh9Pld\n",
      "3mMCfqlXkDzH8jE9mjIu7d\n",
      "2WJxCKZOm7kfuhB89ChUqz\n",
      "7mD6V6JHA0daZKOvVrBKp7\n",
      "2yU9WPb2nJBwiaHFpWot0l\n",
      "014PFhieekBnB1kS2YrT6p\n",
      "5gQ5F7hBtTX2mhLxbnFebm\n",
      "08yAdXncdSCnpuQZyaJE9M\n",
      "0oQDBLn0cTSCELktphqevO\n",
      "35riG35oLwfgvv8j5tSY9V\n",
      "12ZjCl72eIKjyRLxdzCzp3\n",
      "7pvReoWJbC0IJqBHs8Q5c6\n",
      "0jN5nAQMiKZHvIaaMdRoYn\n",
      "0JxWDGHts2i30zxTW4GLIp\n",
      "0zBeSzwKqoZ96EVfltBxp6\n",
      "352jbBYOtwkzJEMC2KkuiG\n",
      "5LeSLsMzbTVzN9nMh0DXgX\n",
      "2h6G38N7N15sa2k3wu2f8y\n",
      "55o0Kmj1fDK5spgELFi5G9\n",
      "2EaPDgAYxbEkw33GX5AESW\n",
      "4OEkqEKvDyPZhFCB8DKWDo\n",
      "4u6rWAGzucybgRpRWjEb6G\n",
      "2NUmT9bkWTOKwXyphQgm1I\n",
      "4aLjA8wfNGD07wgZgrpPA2\n",
      "7BmSFviUm0dByhAZ10wNbk\n",
      "2Yr2JGQxWoyCwnnW12NMeV\n",
      "Ayo\n",
      "Made In Lagos\n",
      "Joro\n",
      "Sounds From The Other Side\n",
      "Low\n",
      "Risky\n",
      "Electricity\n",
      "Best Of Davido\n",
      "Stand Strong (feat. Sunday Service Choir)\n",
      "Mandeman (Remix)\n",
      "Bandana\n",
      "Terminator\n",
      "Peace Be Unto You (PBUY)\n",
      "Sungba (Remix) [feat. Burna Boy]\n",
      "Cruise Control: E-PianoSax (DJ Mix) (Edited)\n",
      "Peru (Remix)\n",
      "Playboy\n",
      "Playboy\n",
      "Laughter, Tears & Goosebumps\n",
      "Laughter, Tears & Goosebumps\n",
      "Love, Damini\n",
      "Love, Damini\n",
      "Love, Damini\n",
      "African Giant\n",
      "Heavy Is The Head\n",
      "Rush\n",
      "Overloading (OVERDOSE)\n",
      "19 & Dangerous\n",
      "Bloody Samaritan\n",
      "KU LO SA - A COLORS SHOW\n",
      "Ijo (Laba Laba)\n",
      "Cray Cray\n",
      "Big Thug Boys\n",
      "Warriors\n",
      "Warriors\n",
      "Warriors\n",
      "Warriors\n",
      "Iskaba\n",
      "Come My Way\n",
      "So Mi So\n",
      "APOLLO\n",
      "Carpe Diem\n",
      "Motigbana\n",
      "Carpe Diem\n",
      "Buga (Lo Lo Lo)\n",
      "Barnabas\n",
      "No Bad Songz\n",
      "King Of Love\n",
      "Barnabas\n",
      "Sugarcane\n"
     ]
    }
   ],
   "source": [
    "from sqlalchemy import text\n",
    "# establish the connection with the engine object\n",
    "with engine.connect() as conn:\n",
    "\n",
    "    # let's select the column credit_history\n",
    "    # from the loan data table\n",
    "    result = conn.execute(text(\"SELECT track_id FROM Track_data\"))\n",
    "    result1 = conn.execute(text(\"SELECT album FROM Track_data1\"))\n",
    "\n",
    "\n",
    "    # print the result\n",
    "    for row in result:\n",
    "        print(row.track_id)\n",
    "    for row in result1:\n",
    "        print(row.album)"
   ],
   "metadata": {
    "collapsed": false,
    "pycharm": {
     "name": "#%%\n"
    }
   }
  },
  {
   "cell_type": "code",
   "execution_count": 3,
   "outputs": [],
   "source": [],
   "metadata": {
    "collapsed": false,
    "pycharm": {
     "name": "#%%\n"
    }
   }
  },
  {
   "cell_type": "code",
   "execution_count": null,
   "outputs": [],
   "source": [],
   "metadata": {
    "collapsed": false,
    "pycharm": {
     "name": "#%%\n"
    }
   }
  }
 ],
 "metadata": {
  "kernelspec": {
   "display_name": "Python 3",
   "language": "python",
   "name": "python3"
  },
  "language_info": {
   "codemirror_mode": {
    "name": "ipython",
    "version": 2
   },
   "file_extension": ".py",
   "mimetype": "text/x-python",
   "name": "python",
   "nbconvert_exporter": "python",
   "pygments_lexer": "ipython2",
   "version": "2.7.6"
  }
 },
 "nbformat": 4,
 "nbformat_minor": 0
}